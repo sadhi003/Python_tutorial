{
 "cells": [
  {
   "cell_type": "markdown",
   "metadata": {},
   "source": [
    "# Pandas tutorial with practice"
   ]
  },
  {
   "cell_type": "markdown",
   "metadata": {},
   "source": [
    "# scrape data and prepare for data analysis\n",
    "\n"
   ]
  },
  {
   "cell_type": "code",
   "execution_count": null,
   "metadata": {},
   "outputs": [],
   "source": [
    "import numpy as np\n",
    "import pandas as pd\n",
    "\n",
    "from urllib.request import urlopen\n",
    "from bs4 import BeautifulSoup"
   ]
  },
  {
   "cell_type": "code",
   "execution_count": null,
   "metadata": {},
   "outputs": [],
   "source": [
    "def readHtml(link):\n",
    "    '''My name is shankar and this is a function'''\n",
    "    html = urlopen(link)\n",
    "    soup = BeautifulSoup(html,'html.parser')\n",
    "    return soup\n",
    "    \n",
    "    "
   ]
  },
  {
   "cell_type": "code",
   "execution_count": null,
   "metadata": {
    "scrolled": true
   },
   "outputs": [],
   "source": [
    "content = readHtml(\"https://en.wikipedia.org/wiki/World_Happiness_Report\")\n",
    "#print (content)\n",
    "tables = content.find_all('table')\n",
    "for table in tables:\n",
    "    #print(table.prettify())"
   ]
  },
  {
   "cell_type": "code",
   "execution_count": null,
   "metadata": {},
   "outputs": [],
   "source": [
    "country_list = []\n",
    "score = []\n",
    "gpd_per_capita = []\n",
    "social_support = []\n",
    "health_life_expectancy = []\n",
    "freedom = []\n",
    "generosity = []\n",
    "perc_of_corruption = []\n",
    "\n",
    "\n",
    "for item in content.find('table', {'class': 'wikitable sortable'}).find_all('tr')[1::1]:\n",
    "    data = item.find_all(['th','td'])\n",
    "    #print (data)\n",
    "    country_list.append(data[1].text)\n",
    "    score.append(data[2].text)\n",
    "    social_support.append(data[3].text)\n",
    "    gpd_per_capita.append(data[4].text)\n",
    "    health_life_expectancy.append(data[5].text)\n",
    "    freedom.append(data[6].text)\n",
    "    generosity.append(data[7].text)\n",
    "    perc_of_corruption.append(data[8].text)\n",
    "    #print ('{}|{}'.format(data[1].text,data[2].text))\n"
   ]
  },
  {
   "cell_type": "code",
   "execution_count": null,
   "metadata": {},
   "outputs": [],
   "source": [
    "# create panda dataframe from list \n",
    "dataframe = pd.DataFrame(list(zip(country_list,score,gpd_per_capita,social_support,health_life_expectancy,freedom,generosity,perc_of_corruption)),\n",
    "                         columns=[\"country\",\"score\",\"gpd\",\"social support\",\"health life expect\", \"freedom\",\"generosity\",\"perc of corruption\"])"
   ]
  },
  {
   "cell_type": "code",
   "execution_count": null,
   "metadata": {},
   "outputs": [],
   "source": [
    "dataframe.dtypes"
   ]
  },
  {
   "cell_type": "code",
   "execution_count": null,
   "metadata": {},
   "outputs": [],
   "source": [
    "convert_dict = {'country': str, \n",
    "                'score': float,\n",
    "                'gpd':float,\n",
    "                'social support':float,\n",
    "                'health life expect':float,\n",
    "                'freedom':float,\n",
    "                'generosity':float,\n",
    "                'perc of corruption':float,\n",
    "               }\n"
   ]
  },
  {
   "cell_type": "code",
   "execution_count": 2,
   "metadata": {},
   "outputs": [
    {
     "ename": "NameError",
     "evalue": "name 'dataframe' is not defined",
     "output_type": "error",
     "traceback": [
      "\u001b[0;31m---------------------------------------------------------------------------\u001b[0m",
      "\u001b[0;31mNameError\u001b[0m                                 Traceback (most recent call last)",
      "\u001b[0;32m<ipython-input-2-18f1694dfa18>\u001b[0m in \u001b[0;36m<module>\u001b[0;34m\u001b[0m\n\u001b[0;32m----> 1\u001b[0;31m \u001b[0mdataframe\u001b[0m \u001b[0;34m=\u001b[0m \u001b[0mdataframe\u001b[0m\u001b[0;34m.\u001b[0m\u001b[0mastype\u001b[0m\u001b[0;34m(\u001b[0m\u001b[0mconvert_dict\u001b[0m\u001b[0;34m)\u001b[0m\u001b[0;34m\u001b[0m\u001b[0;34m\u001b[0m\u001b[0m\n\u001b[0m\u001b[1;32m      2\u001b[0m \u001b[0;31m#dataframe.dtypes\u001b[0m\u001b[0;34m\u001b[0m\u001b[0;34m\u001b[0m\u001b[0;34m\u001b[0m\u001b[0m\n",
      "\u001b[0;31mNameError\u001b[0m: name 'dataframe' is not defined"
     ]
    }
   ],
   "source": [
    "dataframe = dataframe.astype(convert_dict)\n",
    "#dataframe.dtypes"
   ]
  },
  {
   "cell_type": "code",
   "execution_count": null,
   "metadata": {},
   "outputs": [],
   "source": [
    "dataframe.to_csv(\"countrylist.csv\", header=True )"
   ]
  },
  {
   "cell_type": "code",
   "execution_count": null,
   "metadata": {},
   "outputs": [],
   "source": [
    "dataframe.shape"
   ]
  },
  {
   "cell_type": "code",
   "execution_count": null,
   "metadata": {},
   "outputs": [],
   "source": [
    "\n",
    "\n",
    "dataframe.head(5)  # look on some data\n",
    "dataframe.shape    # shape of the data"
   ]
  },
  {
   "cell_type": "code",
   "execution_count": null,
   "metadata": {},
   "outputs": [],
   "source": [
    "dataframe.country[\"Finland\"]   # count row of each columns"
   ]
  },
  {
   "cell_type": "code",
   "execution_count": null,
   "metadata": {},
   "outputs": [],
   "source": [
    "#dataframe.country['Nepal']"
   ]
  },
  {
   "cell_type": "code",
   "execution_count": null,
   "metadata": {},
   "outputs": [],
   "source": []
  },
  {
   "cell_type": "code",
   "execution_count": null,
   "metadata": {},
   "outputs": [],
   "source": [
    "# select data based on row \n",
    "dataframe.iloc[34]  # give row number"
   ]
  },
  {
   "cell_type": "code",
   "execution_count": null,
   "metadata": {},
   "outputs": [],
   "source": [
    "dataframe.head(3)"
   ]
  },
  {
   "cell_type": "code",
   "execution_count": null,
   "metadata": {},
   "outputs": [],
   "source": [
    "# search for nepal data\n",
    "dataframe[dataframe['country'].str.contains('Nepal')]"
   ]
  },
  {
   "cell_type": "code",
   "execution_count": null,
   "metadata": {},
   "outputs": [],
   "source": [
    "newSeries = dataframe.iloc[99,:2]"
   ]
  },
  {
   "cell_type": "code",
   "execution_count": null,
   "metadata": {},
   "outputs": [],
   "source": [
    "dataframe.score.describe()"
   ]
  },
  {
   "cell_type": "code",
   "execution_count": null,
   "metadata": {},
   "outputs": [],
   "source": [
    "# get maximum and mininum score\n",
    "dataframe.score.max() - dataframe.score.min()"
   ]
  },
  {
   "cell_type": "code",
   "execution_count": null,
   "metadata": {},
   "outputs": [],
   "source": [
    "dataframe.score.describe()"
   ]
  },
  {
   "cell_type": "code",
   "execution_count": null,
   "metadata": {},
   "outputs": [],
   "source": [
    "\n",
    "# remove any end line in the name of country\n",
    "data = dataframe\n",
    "#data[data.country.replace('\\n','', regex=True)]\n",
    "data['country']"
   ]
  },
  {
   "cell_type": "markdown",
   "metadata": {},
   "source": [
    "# Pandas other functionality\n",
    "### 1. Read data from files\n",
    "### 2. Write data to files\n",
    "### 3. differences of loc, iloc, ix\n",
    "### 4. "
   ]
  },
  {
   "cell_type": "markdown",
   "metadata": {},
   "source": [
    "# 1. Read data "
   ]
  },
  {
   "cell_type": "code",
   "execution_count": null,
   "metadata": {},
   "outputs": [],
   "source": [
    "data_csv = pd.read_csv(\"countrylist.csv\",)"
   ]
  }
 ],
 "metadata": {
  "kernelspec": {
   "display_name": "Python 3",
   "language": "python",
   "name": "python3"
  },
  "language_info": {
   "codemirror_mode": {
    "name": "ipython",
    "version": 3
   },
   "file_extension": ".py",
   "mimetype": "text/x-python",
   "name": "python",
   "nbconvert_exporter": "python",
   "pygments_lexer": "ipython3",
   "version": "3.7.2"
  }
 },
 "nbformat": 4,
 "nbformat_minor": 2
}
